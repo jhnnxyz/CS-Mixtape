{
 "cells": [
  {
   "cell_type": "markdown",
   "id": "934f251e-2d39-4703-bbba-657e93834820",
   "metadata": {},
   "source": [
    "Input: A sequence of n numbers (a_1, a_2, ..., a_n)\n",
    "\n",
    "Output: A permutation (reordering) (ha10 ; a20 ; : : : ; an0) of the input sequence such that (a1 <= to, 􏰭a2, <= 􏰭􏰨􏰨􏰨􏰭an).\n",
    "\n",
    "The numbers that we wish to sort are also known as the keys. Although conceptu- ally we are sorting a sequence, the input comes to us in the form of an array with n elements.\n",
    "\n",
    "We start with insertion sort, which is an efficient algorithm for sorting a small number of elements. Insertion sort works the way many people sort a hand of playing cards. We start with an empty left hand and the cards face down on the table. We then remove one card at a time from the table and insert it into the correct position in the left hand. To find the correct position for a card, we compare it with each of the cards already in the hand, from right to left. At all times, the cards held in the left hand are sorted, and these cards were originally the top cards of the pile on the table.\n",
    "\n",
    "Insertion sort takes as a parameter an array AŒ1::n􏰵 containing a sequence of length n that is to be sorted. The algorithm sorts the input numbers in place: it rearranges the numbers within the array A, with at most a constant number of them stored outside the array at any time. The input array A contains the sorted output sequence when the INSERTION-SORT procedure is finished.\n",
    "\n",
    "```\n",
    "INSERTION-SORT(A)\n",
    "for j = 2 to A.length\n",
    "    key = A[j]\n",
    "    // Insert A[j] into the sorted sequence A[1...j - 1]\n",
    "    i = j - 1\n",
    "    while i > 0 and A[i] > key\n",
    "        A[i + 1] = A[i]\n",
    "        i = i - 1\n",
    "    A[i + 1] = key\n",
    "```\n",
    "\n",
    "Suppose we have A = (5, 2, 4, 6, 1, 3)"
   ]
  },
  {
   "cell_type": "code",
   "execution_count": 22,
   "id": "bfb83685-6b7f-48ea-9e66-4b89896fc2b9",
   "metadata": {},
   "outputs": [
    {
     "data": {
      "text/plain": [
       "'/Users/johann/Projects/CS-Mix-Tape/Sorting'"
      ]
     },
     "execution_count": 22,
     "metadata": {},
     "output_type": "execute_result"
    }
   ],
   "source": [
    "%pwd"
   ]
  },
  {
   "cell_type": "code",
   "execution_count": 12,
   "id": "b16d62f3-f8a2-4076-999e-0a2533f08e32",
   "metadata": {},
   "outputs": [
    {
     "name": "stdout",
     "output_type": "stream",
     "text": [
      "Overwriting /Users/johann/Projects/CS-Mix-Tape/Sorting/insertionSort.c\n"
     ]
    }
   ],
   "source": [
    "%%file /Users/johann/Projects/CS-Mix-Tape/Sorting/insertionSort.c\n",
    "\n",
    "#include <stdio.h>\n",
    "\n",
    "int main(int argc, char **argv) {\n",
    "    printf(\"Hello, world!\\n\");\n",
    "    return 0;\n",
    "}"
   ]
  },
  {
   "cell_type": "code",
   "execution_count": 21,
   "id": "1876aadf-90fd-494d-8d15-ee1385701464",
   "metadata": {},
   "outputs": [
    {
     "name": "stdout",
     "output_type": "stream",
     "text": [
      "clang: \u001b[0;1;31merror: \u001b[0mno such file or directory: 'pwd/insertionSort.c'\u001b[0m\n",
      "clang: \u001b[0;1;31merror: \u001b[0mno input files\u001b[0m\n"
     ]
    }
   ],
   "source": [
    "!gcc pwd/insertionSort.c -o pwd/insertionSort"
   ]
  },
  {
   "cell_type": "code",
   "execution_count": 14,
   "id": "dc7035b9-0ffc-4661-9dfd-1d2d2b982ba9",
   "metadata": {},
   "outputs": [
    {
     "name": "stdout",
     "output_type": "stream",
     "text": [
      "Insertion-sort.ipynb \u001b[31minsertionSort\u001b[m\u001b[m        insertionSort.c\n"
     ]
    }
   ],
   "source": [
    "! ls"
   ]
  },
  {
   "cell_type": "code",
   "execution_count": 15,
   "id": "5b3058a9-f65e-4641-84b4-80753bff5834",
   "metadata": {},
   "outputs": [
    {
     "name": "stdout",
     "output_type": "stream",
     "text": [
      "/Users/johann/Projects/CS-Mix-Tape/Sorting/insertionSort: Mach-O 64-bit executable x86_64\n"
     ]
    }
   ],
   "source": [
    "!file /Users/johann/Projects/CS-Mix-Tape/Sorting/insertionSort"
   ]
  },
  {
   "cell_type": "code",
   "execution_count": 16,
   "id": "a7b7ead6-2634-4143-97c0-5e1b1f0d7111",
   "metadata": {},
   "outputs": [
    {
     "name": "stdout",
     "output_type": "stream",
     "text": [
      "Hello, world!\n"
     ]
    }
   ],
   "source": [
    "! /Users/johann/Projects/CS-Mix-Tape/Sorting/insertionSort"
   ]
  }
 ],
 "metadata": {
  "kernelspec": {
   "display_name": "Python 3 (ipykernel)",
   "language": "python",
   "name": "python3"
  },
  "language_info": {
   "codemirror_mode": {
    "name": "ipython",
    "version": 3
   },
   "file_extension": ".py",
   "mimetype": "text/x-python",
   "name": "python",
   "nbconvert_exporter": "python",
   "pygments_lexer": "ipython3",
   "version": "3.9.10"
  }
 },
 "nbformat": 4,
 "nbformat_minor": 5
}
