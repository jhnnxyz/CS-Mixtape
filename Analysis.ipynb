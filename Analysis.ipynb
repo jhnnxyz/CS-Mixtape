{
 "cells": [
  {
   "cell_type": "markdown",
   "id": "1a8c2f69-dbf2-4c11-b6a5-3cc68512c28a",
   "metadata": {},
   "source": [
    "# Principles of Algorithm Analysis\n",
    "\n",
    "Analysis is the key to being able to understand algorithms sufficiently well that we can apply them effectively to practical problem. "
   ]
  }
 ],
 "metadata": {
  "kernelspec": {
   "display_name": "Python 3 (ipykernel)",
   "language": "python",
   "name": "python3"
  },
  "language_info": {
   "codemirror_mode": {
    "name": "ipython",
    "version": 3
   },
   "file_extension": ".py",
   "mimetype": "text/x-python",
   "name": "python",
   "nbconvert_exporter": "python",
   "pygments_lexer": "ipython3",
   "version": "3.9.10"
  }
 },
 "nbformat": 4,
 "nbformat_minor": 5
}
