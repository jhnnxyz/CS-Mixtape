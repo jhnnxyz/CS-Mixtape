{
 "cells": [
  {
   "cell_type": "code",
   "execution_count": 5,
   "id": "f6168ddf-a33f-41a8-bcb8-5fd3487c8a50",
   "metadata": {},
   "outputs": [],
   "source": [
    "%load_ext autoreload\n",
    "%autoreload 2"
   ]
  },
  {
   "cell_type": "markdown",
   "id": "43a82f97-a961-4841-9855-1b27751f4c17",
   "metadata": {
    "tags": []
   },
   "source": [
    "# Connectivity\n",
    "\n",
    "Suppose that we are given a sequence of pairs of integers, where each integer represents an object of some type and we are to interpret the pair p-q as meaning \"p is connected to q.\" \n",
    "\n",
    "We assume the relation \"is connected to\" to be transitive: If p is connected to q, and q is connected to r, then p is connected to r. \n",
    "\n",
    "Our goal is to write a program to filter out extraneous pairs from the set: When the program inputs a pair p-q, it should output the pair only if the pairs it has seen to that point do not imply that p is connected to q. \n",
    "\n",
    "If the previous pairs do imply that p is connected to q, then the program should ignore p-q and should proceed to input the next pair.\n",
    "\n",
    "Our problem is to devise a program that can remember sufficient information about the pairs it has seen to be able to decide whether or not a new pair of objects is connected. Informally, we refer to the task of designing such a method as the connectivity problem\n",
    "\n",
    "```\n",
    "3-4   3-4\n",
    "4-9   4-9\n",
    "8-0   8-0\n",
    "2-3   2-3\n",
    "5-6   5-6\n",
    "2-9         2-3-4-9 \n",
    "5-9   5-9\n",
    "7-3   7-3\n",
    "4-8   4-8\n",
    "5-6         5-6\n",
    "0-2         0-8-4-3-2 \n",
    "6-1   6-1\n",
    "```\n",
    "\n",
    "Given a sequence of pairs of integers representing connections between objects (left), the task of a connectivity algorithm is to output those pairs that provide new connections (center). For example, the pair 2-9 is not part of the output because the connection 2-3-4-9 is implied by previous connections (this evidence is shown at right).\n",
    "\n",
    "This type of problem require that we associate an integer with each distinct variable name.\n",
    "We can assume without loss of generality, that we have N objects with integer names, from 0 to N - 1.\n",
    "\n",
    "One of the first tasks that we face in developing an algorithm is to be sure that we have specified the problem in a reasonable manner.\n",
    "\n",
    "For example, our connectivity-problem specification requires only that our program somehow know whether or not any given pair p-q is connected, and not that it be able to demonstrate any or all ways to connect that pair.\n",
    "\n",
    "The specifications mentioned in the previous paragraph ask us for more information than our original one did; we could also ask for less information. For example, we might simply want to be able to answer the question: \"Are the AI connections sufficient to connect together all N objects?\"\n",
    "\n",
    "In this case, a fundamental result from graph theory implies that all N objects are connected if and only if the number of pairs output by the connectivity algorithm is precisely N- 1. In other words, a connectivity algorithm will never output more than N - 1 pairs, because, once it has output N-1 pairs, any pair that it encounters from that point on will be connected.\n",
    "\n",
    "Accordingly, we can get a program that answers the yes-no question just posed by changing a program that solves the connectivity problem to one that increments a counter, rather than writing out each pair that was not previously connected, answering \"yes\" when the counter reaches N ~- 1 and \"no\" if it never does. \n",
    "\n",
    "The set of pairs in the input is called a graph, and the set of pairs output is called a spanning tree for\n",
    "that graph, which connects all the objects. \n",
    "\n",
    "It is worthwhile to try to identify the fundamental operations that we will be performing. Specifically, each time that we get a new pair, we have first to determine whether it represents a new connection, then to incorporate the infor­ mation that the connection has been seen into its understanding about\n",
    "the connectivity of the objects such that it can check connections to be seen in the future.\n",
    "\n",
    "We encapsulate these two tasks as abstract operations by considering the integer input values to represent elements in abstract sets, and then design algorithms and data structures that can\n",
    "\n",
    "- *find* the set containing a given item.\n",
    "- Replace the sets containing two given items by their *union*.\n",
    "\n",
    "The connectivity problem is easily solved in terms of the find and union abstract operations. After reading a new pair p-q from the input, we perform a find operation for each member of the pair. If the members of the pair are in the same set, we move on to the next pair; if they are not, we do a union operation and write out the pair. The sets represent connected components: subsets of the objects with the property that any two objects in a given component are connected.\n",
    "\n",
    "This approach reduces the development of an algorithmic solution for connectivity to the tasks of defining a data structure representing the sets and developing union and find algorithms that efficiently use that data structure."
   ]
  },
  {
   "cell_type": "markdown",
   "id": "039376c7-17cf-47f5-b12d-a469f6aaaac6",
   "metadata": {},
   "source": [
    "# Union-Find Algorithms\n",
    "\n",
    "The first step in the process of developing an efficient algorithm to solve a given problem is to implement a simple algorithm that solves the problem.\n",
    "\n",
    "If we need to solve a few particular problem instances that turn out to be easy, then the simple implementation may finish the job for us. If a more sophisticated algorithm is called for, then the simple implementation provides us with a correctness check for small cases and a baseline for evaluating performance characteristics. We always care about efficiency, but our primary concern in developing the first program that we write to solve a problem is to make sure that the program is a correct solution to the problem.\n",
    "\n",
    "The first idea that might come to mind is somehow to save all the input pairs, then to write a function to pass through them to try to discover whether the next pair of objects is connected. We shall use a different approach. First, the number of pairs might be sufficiently large to preclude our saving them all in memory in practical applica­ tions. Second, and more to the point, no simple method immediately suggests itself for determining whether two objects are connected from the set of all the connections, even if we could save them all! We consider a basic method that takes this approach in Chapter 5, but the methods that we shall consider in this chapter are simpler, because they solve a less difficult problem, and are more efficient, because they do not require saving all the pairs. They all use an array of integers-one corresponding to each object-to hold the requisite information to be able to implement union and find."
   ]
  },
  {
   "cell_type": "code",
   "execution_count": 6,
   "id": "eb3383ae-6c4d-4290-a655-24712e9bdf15",
   "metadata": {},
   "outputs": [
    {
     "name": "stdout",
     "output_type": "stream",
     "text": [
      "/Users/johann/Projects/CS-Mix-Tape/Union-find\n"
     ]
    }
   ],
   "source": [
    "!pwd"
   ]
  },
  {
   "cell_type": "code",
   "execution_count": 4,
   "id": "1f2b7558-7e29-4309-b533-04ea416bceac",
   "metadata": {},
   "outputs": [
    {
     "name": "stdout",
     "output_type": "stream",
     "text": [
      "Writing /Users/johann/Projects/CS-Mix-Tape/Union-find/union-find.c\n"
     ]
    }
   ],
   "source": [
    "%%file /Users/johann/Projects/CS-Mix-Tape/Union-find/union-find.c\n",
    "\n",
    "#include <stdio.h>\n",
    "#define N 10000\n",
    "\n",
    "int main(void) {\n",
    "    int i, p, q, t, id[N];\n",
    "    for (i = 0; i < N; i++) id[i] = i;\n",
    "    while (scanf(\"%d %d\\n\", &p, &q) == 2) {\n",
    "        if (id[p] == id[q]) continue;\n",
    "        for (t = id[p], i = 0; i < N; i++)\n",
    "            if (id[i] == t) id[i] = id[q];\n",
    "        printf(\" %d %d\\n\", p, q);\n",
    "    }        \n",
    "}"
   ]
  },
  {
   "cell_type": "code",
   "execution_count": null,
   "id": "fd73414f-9a94-46dd-8891-174d67b24739",
   "metadata": {},
   "outputs": [],
   "source": [
    "%%shell\n",
    "\n",
    "cc "
   ]
  }
 ],
 "metadata": {
  "kernelspec": {
   "display_name": "Python 3 (ipykernel)",
   "language": "python",
   "name": "python3"
  },
  "language_info": {
   "codemirror_mode": {
    "name": "ipython",
    "version": 3
   },
   "file_extension": ".py",
   "mimetype": "text/x-python",
   "name": "python",
   "nbconvert_exporter": "python",
   "pygments_lexer": "ipython3",
   "version": "3.9.10"
  }
 },
 "nbformat": 4,
 "nbformat_minor": 5
}
