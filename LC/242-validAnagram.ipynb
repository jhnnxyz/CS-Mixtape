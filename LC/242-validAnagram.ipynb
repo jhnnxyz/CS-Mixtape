{
 "cells": [
  {
   "cell_type": "markdown",
   "id": "6b759f62-6acc-4177-89a2-35d602193b11",
   "metadata": {},
   "source": [
    "Given two strings s and t, return true if t is an anagram of s, and false otherwise.\n",
    "\n",
    "An Anagram is a word or phrase formed by rearranging the letters of a different word or phrase, typically using all the original letters exactly once.\n",
    "\n",
    "Example 1:\n",
    "- Input: s = \"anagram\", t = \"nagaram\"\n",
    "- Output: true\n",
    "\n",
    "Example 2:\n",
    "- Input: s = \"rat\", t = \"car\"\n",
    "- Output: false\n",
    "\n",
    "\n",
    "First, Python has a lot of built in functions that makes finding the solution a lot easier.\n",
    "For example, sorted(), Counter(), and len(). During that interview make sure it's ok to\n",
    "use such functions. Else, find the solution from first principles. \n",
    "\n",
    "1. Check if the length of the words are the same. If they are not, return False. \n",
    "2. set up a two hashtables to counter every letter in the word\n",
    "3. if hashtables are different, return false\n",
    "4. if hashtables are the same, return true\n",
    "\n",
    "check: https://runestone.academy/ns/books/published/pythonds/AlgorithmAnalysis/AnAnagramDetectionExample.html"
   ]
  },
  {
   "cell_type": "code",
   "execution_count": 1,
   "id": "b3278201-ad26-4e52-94af-86881c966cf3",
   "metadata": {
    "tags": []
   },
   "outputs": [],
   "source": [
    "def isAnagram(s: str, t: str) -> bool:\n",
    "    if sorted(s) != sorted(t):\n",
    "        return False\n",
    "    if sorted(s) == sorted(t):\n",
    "        return True"
   ]
  },
  {
   "cell_type": "code",
   "execution_count": 2,
   "id": "21d43147-b1dc-4276-8a4d-1312f78371e5",
   "metadata": {},
   "outputs": [
    {
     "data": {
      "text/plain": [
       "True"
      ]
     },
     "execution_count": 2,
     "metadata": {},
     "output_type": "execute_result"
    }
   ],
   "source": [
    "isAnagram('anagram', 'nagaram')"
   ]
  },
  {
   "cell_type": "code",
   "execution_count": 3,
   "id": "964769d2-1bf6-4643-825a-adecdc36921a",
   "metadata": {},
   "outputs": [
    {
     "data": {
      "text/plain": [
       "False"
      ]
     },
     "execution_count": 3,
     "metadata": {},
     "output_type": "execute_result"
    }
   ],
   "source": [
    "isAnagram('rat', 'car')"
   ]
  },
  {
   "cell_type": "code",
   "execution_count": 4,
   "id": "129c06b9-1087-4e01-9cc3-90ba99895baf",
   "metadata": {},
   "outputs": [],
   "source": [
    "from collections import Counter\n",
    "def isAnagram2(s: str, t: str) -> bool:\n",
    "    return Counter(s)==Counter(t)"
   ]
  },
  {
   "cell_type": "code",
   "execution_count": 5,
   "id": "13257845-da10-464d-b8d7-e846c78babc7",
   "metadata": {},
   "outputs": [
    {
     "data": {
      "text/plain": [
       "True"
      ]
     },
     "execution_count": 5,
     "metadata": {},
     "output_type": "execute_result"
    }
   ],
   "source": [
    "isAnagram('anagram', 'nagaram')"
   ]
  },
  {
   "cell_type": "code",
   "execution_count": 6,
   "id": "dacd758c-6932-4a26-bb0b-74dbf32d5465",
   "metadata": {},
   "outputs": [
    {
     "data": {
      "text/plain": [
       "False"
      ]
     },
     "execution_count": 6,
     "metadata": {},
     "output_type": "execute_result"
    }
   ],
   "source": [
    "isAnagram2('rat', 'car')"
   ]
  },
  {
   "cell_type": "code",
   "execution_count": 7,
   "id": "9c297a08-9cd9-4fa2-a1f0-111ea9158e13",
   "metadata": {},
   "outputs": [],
   "source": [
    "def isAnagram3(s, t):\n",
    "    if len(s) != len(t):\n",
    "        return False\n",
    "\n",
    "    counter_t = {}\n",
    "    counter_s = {}\n",
    "\n",
    "    for letter in s:\n",
    "        if letter not in counter_s:\n",
    "            counter_s[letter] = 0\n",
    "        counter_s[letter] += 1\n",
    "    \n",
    "    for letter in t:\n",
    "        if letter not in counter_t:\n",
    "            counter_t[letter] = 0\n",
    "        counter_t[letter] += 1\n",
    "    \n",
    "    if counter_t != counter_s:\n",
    "        return False\n",
    "    \n",
    "    if counter_t == counter_s:\n",
    "        return True"
   ]
  },
  {
   "cell_type": "code",
   "execution_count": 8,
   "id": "7e5dfc0c-2584-4bd5-b196-d9257fada686",
   "metadata": {},
   "outputs": [
    {
     "data": {
      "text/plain": [
       "True"
      ]
     },
     "execution_count": 8,
     "metadata": {},
     "output_type": "execute_result"
    }
   ],
   "source": [
    "isAnagram3('anagram', 'nagaram')"
   ]
  },
  {
   "cell_type": "code",
   "execution_count": 9,
   "id": "120c8851-7fb1-4894-a7bd-c483e99ff970",
   "metadata": {},
   "outputs": [
    {
     "data": {
      "text/plain": [
       "False"
      ]
     },
     "execution_count": 9,
     "metadata": {},
     "output_type": "execute_result"
    }
   ],
   "source": [
    "isAnagram3('rat', 'car')"
   ]
  }
 ],
 "metadata": {
  "kernelspec": {
   "display_name": "Python 3 (ipykernel)",
   "language": "python",
   "name": "python3"
  },
  "language_info": {
   "codemirror_mode": {
    "name": "ipython",
    "version": 3
   },
   "file_extension": ".py",
   "mimetype": "text/x-python",
   "name": "python",
   "nbconvert_exporter": "python",
   "pygments_lexer": "ipython3",
   "version": "3.9.10"
  }
 },
 "nbformat": 4,
 "nbformat_minor": 5
}
