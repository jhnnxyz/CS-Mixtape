{
 "cells": [
  {
   "cell_type": "markdown",
   "id": "a7e1b4f6-b24d-4d86-bebf-ff7179e34a93",
   "metadata": {},
   "source": [
    "Given an integer array nums, return true if any value appears at least twice in the array, and return false if every element is distinct.\n",
    "\n",
    "\n",
    "Example 1:\n",
    "- Input: nums = [1,2,3,1]\n",
    "- Output: true\n",
    "\n",
    "Example 2:\n",
    "- Input: nums = [1,2,3,4]\n",
    "- Output: false"
   ]
  },
  {
   "cell_type": "code",
   "execution_count": 2,
   "id": "047cb810-8e25-46b4-b25f-4d1a545693ad",
   "metadata": {},
   "outputs": [],
   "source": [
    "from typing import List\n",
    "def containsDuplicate(nums: List[int]) -> bool:\n",
    "    hashmap = {}\n",
    "    for num in enumerate(nums):\n",
    "        if hashmap.value(num) => 2:\n",
    "            return True\n",
    "    "
   ]
  }
 ],
 "metadata": {
  "kernelspec": {
   "display_name": "Python 3 (ipykernel)",
   "language": "python",
   "name": "python3"
  },
  "language_info": {
   "codemirror_mode": {
    "name": "ipython",
    "version": 3
   },
   "file_extension": ".py",
   "mimetype": "text/x-python",
   "name": "python",
   "nbconvert_exporter": "python",
   "pygments_lexer": "ipython3",
   "version": "3.9.10"
  }
 },
 "nbformat": 4,
 "nbformat_minor": 5
}
